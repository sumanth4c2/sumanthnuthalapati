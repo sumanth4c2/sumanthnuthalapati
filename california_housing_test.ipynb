{
  "nbformat": 4,
  "nbformat_minor": 0,
  "metadata": {
    "colab": {
      "name": "Untitled3.ipynb",
      "provenance": [],
      "toc_visible": true,
      "authorship_tag": "ABX9TyOIX+2NtUvh9dKiZbbjRnfb",
      "include_colab_link": true
    },
    "kernelspec": {
      "name": "python3",
      "display_name": "Python 3"
    }
  },
  "cells": [
    {
      "cell_type": "markdown",
      "metadata": {
        "id": "view-in-github",
        "colab_type": "text"
      },
      "source": [
        "<a href=\"https://colab.research.google.com/github/sumanth4c2/sumanthnuthalapati/blob/master/california_housing_test.ipynb\" target=\"_parent\"><img src=\"https://colab.research.google.com/assets/colab-badge.svg\" alt=\"Open In Colab\"/></a>"
      ]
    },
    {
      "cell_type": "code",
      "metadata": {
        "id": "Ye2FizneZ5-d",
        "colab_type": "code",
        "colab": {
          "base_uri": "https://localhost:8080/",
          "height": 255
        },
        "outputId": "f0ecd9c1-de9e-4940-9ffa-6936eba46daf"
      },
      "source": [
        "import pandas as pd\n",
        "df=pd.read_csv(\"/content/sample_data/california_housing_train.csv\")\n",
        "print(df)"
      ],
      "execution_count": 19,
      "outputs": [
        {
          "output_type": "stream",
          "text": [
            "       longitude  latitude  ...  median_income  median_house_value\n",
            "0        -114.31     34.19  ...         1.4936             66900.0\n",
            "1        -114.47     34.40  ...         1.8200             80100.0\n",
            "2        -114.56     33.69  ...         1.6509             85700.0\n",
            "3        -114.57     33.64  ...         3.1917             73400.0\n",
            "4        -114.57     33.57  ...         1.9250             65500.0\n",
            "...          ...       ...  ...            ...                 ...\n",
            "16995    -124.26     40.58  ...         2.3571            111400.0\n",
            "16996    -124.27     40.69  ...         2.5179             79000.0\n",
            "16997    -124.30     41.84  ...         3.0313            103600.0\n",
            "16998    -124.30     41.80  ...         1.9797             85800.0\n",
            "16999    -124.35     40.54  ...         3.0147             94600.0\n",
            "\n",
            "[17000 rows x 9 columns]\n"
          ],
          "name": "stdout"
        }
      ]
    },
    {
      "cell_type": "code",
      "metadata": {
        "id": "iQ-hZEqUgJUS",
        "colab_type": "code",
        "colab": {}
      },
      "source": [
        ""
      ],
      "execution_count": 0,
      "outputs": []
    },
    {
      "cell_type": "code",
      "metadata": {
        "id": "NrtLdTiVeOrJ",
        "colab_type": "code",
        "colab": {}
      },
      "source": [
        ""
      ],
      "execution_count": 0,
      "outputs": []
    },
    {
      "cell_type": "code",
      "metadata": {
        "id": "DN9zKTVYcK2U",
        "colab_type": "code",
        "colab": {}
      },
      "source": [
        ""
      ],
      "execution_count": 0,
      "outputs": []
    }
  ]
}